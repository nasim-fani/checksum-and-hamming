{
  "nbformat": 4,
  "nbformat_minor": 0,
  "metadata": {
    "colab": {
      "name": "Checksum & Hamming.ipynb",
      "provenance": [],
      "authorship_tag": "ABX9TyNNfWfrZCBVFGPPSwouUltp",
      "include_colab_link": true
    },
    "kernelspec": {
      "name": "python3",
      "display_name": "Python 3"
    },
    "language_info": {
      "name": "python"
    }
  },
  "cells": [
    {
      "cell_type": "markdown",
      "metadata": {
        "id": "view-in-github",
        "colab_type": "text"
      },
      "source": [
        "<a href=\"https://colab.research.google.com/github/nasim-fani/checksum-and-hamming/blob/main/Checksum_%26_Hamming.ipynb\" target=\"_parent\"><img src=\"https://colab.research.google.com/assets/colab-badge.svg\" alt=\"Open In Colab\"/></a>"
      ]
    },
    {
      "cell_type": "markdown",
      "source": [
        "**Error Detection**\n",
        "\n",
        "---\n",
        "\n",
        "\n",
        "checksum"
      ],
      "metadata": {
        "id": "EJsnonACeMhc"
      }
    },
    {
      "cell_type": "markdown",
      "source": [
        "*Step-01:*\n",
        " \n",
        "At sender side,\n",
        "\n",
        "If m bit checksum is used, \n",
        "\n",
        "\n",
        "1.   The data unit to be transmitted is divided into segments of m bits.\n",
        "2.   All the m bit segments are added.\n",
        "3.   The result of the sum is then complemented using 1’s complement arithmetic.\n",
        "The value so obtained is called as **checksum**.\n",
        " \n",
        "\n",
        "*Step-02:*\n",
        " \n",
        "\n",
        "The data along with the checksum value is transmitted to the receiver.\n",
        " \n",
        "\n",
        "*Step-03:*\n",
        " \n",
        "\n",
        "At receiver side,\n",
        "\n",
        "If m bit checksum is being used, \n",
        "1. The received data unit is divided into segments of m bits.\n",
        "2. All the m bit segments are added along with the checksum value. \n",
        "3. The value so obtained is complemented and the result is checked.\n"
      ],
      "metadata": {
        "id": "7ZOzv67ifiUL"
      }
    },
    {
      "cell_type": "code",
      "source": [
        "# step-01\n",
        "def findChecksum(SentMessage, k):\n",
        "\tc1 = SentMessage[0:k]\n",
        "\tc2 = SentMessage[k:2*k]\n",
        "\tc3 = SentMessage[2*k:3*k]\n",
        "\tc4 = SentMessage[3*k:4*k]\n",
        "\n",
        "\tSum = bin(int(c1, 2)+int(c2, 2)+int(c3, 2)+int(c4, 2))[2:]\n",
        "\n",
        "\t# Overflow\n",
        "\tif(len(Sum) > k):\n",
        "\t\tx = len(Sum)-k\n",
        "\t\tSum = bin(int(Sum[0:x], 2)+int(Sum[x:], 2))[2:]\n",
        "\tif(len(Sum) < k):\n",
        "\t\tSum = '0'*(k-len(Sum))+Sum\n",
        "\n",
        "\tChecksum = ''\n",
        "\tfor i in Sum:\n",
        "\t\tif(i == '1'):\n",
        "\t\t\tChecksum += '0'\n",
        "\t\telse:\n",
        "\t\t\tChecksum += '1'\n",
        "\treturn Checksum\n",
        "\n"
      ],
      "metadata": {
        "id": "2l5REHQpeZSw"
      },
      "execution_count": null,
      "outputs": []
    },
    {
      "cell_type": "code",
      "source": [
        "# Step-03\n",
        "def checkReceiverChecksum(ReceivedMessage, k, Checksum):\n",
        "\n",
        "\tc1 = ReceivedMessage[0:k]\n",
        "\tc2 = ReceivedMessage[k:2*k]\n",
        "\tc3 = ReceivedMessage[2*k:3*k]\n",
        "\tc4 = ReceivedMessage[3*k:4*k]\n",
        "\n",
        "\tReceiverSum = bin(int(c1, 2)+int(c2, 2)+int(Checksum, 2) +\n",
        "\t\t\t\t\tint(c3, 2)+int(c4, 2)+int(Checksum, 2))[2:]\n",
        "\n",
        "\t# Overflow\n",
        "\tif(len(ReceiverSum) > k):\n",
        "\t\tx = len(ReceiverSum)-k\n",
        "\t\tReceiverSum = bin(int(ReceiverSum[0:x], 2)+int(ReceiverSum[x:], 2))[2:]\n",
        "\n",
        "\tReceiverChecksum = ''\n",
        "\tfor i in ReceiverSum:\n",
        "\t\tif(i == '1'):\n",
        "\t\t\tReceiverChecksum += '0'\n",
        "\t\telse:\n",
        "\t\t\tReceiverChecksum += '1'\n",
        "\treturn ReceiverChecksum"
      ],
      "metadata": {
        "id": "bqf62BCuhoPh"
      },
      "execution_count": null,
      "outputs": []
    },
    {
      "cell_type": "code",
      "source": [
        "SentMessage = \"10010101011000111001010011101100\"\n",
        "k = 8\n",
        "ReceivedMessage = \"10000101011000111001010011101101\"\n",
        "\n",
        "Checksum = findChecksum(SentMessage, k)\n",
        "ReceiverChecksum = checkReceiverChecksum(ReceivedMessage, k, Checksum)\n",
        "\n",
        "print(\"SENDER SIDE CHECKSUM: \", Checksum)\n",
        "print(\"RECEIVER SIDE CHECKSUM: \", ReceiverChecksum)\n",
        "\n",
        "# If sum = 0, No error is detected\n",
        "if(int(ReceiverChecksum, 2) == 0):\n",
        "\tprint(\"ACCEPTED\")\n",
        "\n",
        "else:\n",
        "\tprint(\"ERROR DETECTED\")"
      ],
      "metadata": {
        "colab": {
          "base_uri": "https://localhost:8080/"
        },
        "id": "leW94YeNh94R",
        "outputId": "d2bc49c5-a1f2-45f6-9c04-c942949f92a7"
      },
      "execution_count": null,
      "outputs": [
        {
          "output_type": "stream",
          "name": "stdout",
          "text": [
            "SENDER SIDE CHECKSUM:  10000101\n",
            "RECEIVER SIDE CHECKSUM:  0001001\n",
            "ERROR DETECTED\n"
          ]
        }
      ]
    },
    {
      "cell_type": "markdown",
      "source": [
        "**Error Correction**\n",
        "\n",
        "---\n",
        "\n",
        "Hamming code"
      ],
      "metadata": {
        "id": "9y-8ArppiK92"
      }
    },
    {
      "cell_type": "markdown",
      "source": [
        "*Steps:*\n",
        "\n",
        "1.   Calculate the no of redundant bits required\n",
        "2.   Determine the parity bits\n",
        "3.   Check for errors"
      ],
      "metadata": {
        "id": "CmtHaAHaiLd2"
      }
    },
    {
      "cell_type": "code",
      "source": [
        "# step-1\n",
        "def calcRedundantBits(m):\n",
        "\tfor i in range(m):\n",
        "\t\tif(2**i >= m + i + 1):\n",
        "\t\t\treturn i"
      ],
      "metadata": {
        "id": "VCTPbKEziL4K"
      },
      "execution_count": null,
      "outputs": []
    },
    {
      "cell_type": "code",
      "source": [
        "def posRedundantBits(data, r):\n",
        "    j = 0\n",
        "    k = 1\n",
        "    m = len(data)\n",
        "    res = ''\n",
        " \n",
        "    for i in range(1, m + r+1):\n",
        "        if(i == 2**j):\n",
        "            res = res + '0'\n",
        "            j += 1\n",
        "        else:\n",
        "            res = res + data[-1 * k]\n",
        "            k += 1\n",
        "            \n",
        "    return res[::-1]\n"
      ],
      "metadata": {
        "id": "VtiDg1xWi1Oh"
      },
      "execution_count": null,
      "outputs": []
    },
    {
      "cell_type": "code",
      "source": [
        "#step-2\n",
        "def calcParityBits(arr, r):\n",
        "    n = len(arr)\n",
        "\n",
        "    for i in range(r):\n",
        "        val = 0\n",
        "        for j in range(1, n + 1):\n",
        " \n",
        "            if(j & (2**i) == (2**i)):\n",
        "                val = val ^ int(arr[-1 * j])\n",
        "\n",
        "        arr = arr[:n-(2**i)] + str(val) + arr[n-(2**i)+1:]\n",
        "    return arr"
      ],
      "metadata": {
        "id": "nskERJ4WjBx2"
      },
      "execution_count": null,
      "outputs": []
    },
    {
      "cell_type": "code",
      "source": [
        "#step-3\n",
        "def detectError(arr, nr):\n",
        "    n = len(arr)\n",
        "    res = 0\n",
        " \n",
        "    for i in range(nr):\n",
        "        val = 0\n",
        "        for j in range(1, n + 1):\n",
        "            if(j & (2**i) == (2**i)):\n",
        "                val = val ^ int(arr[-1 * j])\n",
        " \n",
        "        res = res + val*(10**i)\n",
        " \n",
        "    return int(str(res), 2)"
      ],
      "metadata": {
        "id": "tuHeLvVGjM73"
      },
      "execution_count": null,
      "outputs": []
    },
    {
      "cell_type": "code",
      "source": [
        "data = '1011001'\n",
        " \n",
        "m = len(data)\n",
        "r = calcRedundantBits(m)\n",
        " \n",
        "arr = posRedundantBits(data, r)\n",
        " \n",
        "arr = calcParityBits(arr, r)\n",
        " \n",
        "print(\"Data transferred is \" + arr) \n",
        " \n",
        "arr = '11101001110'\n",
        "print(\"Error Data is \" + arr)\n",
        "correction = detectError(arr, r)\n",
        "print(\"The position of error is \" + str(correction))"
      ],
      "metadata": {
        "colab": {
          "base_uri": "https://localhost:8080/"
        },
        "id": "DPBgqEm2jMw7",
        "outputId": "7dac2839-a826-4a3b-b01e-6b42d27fdbda"
      },
      "execution_count": null,
      "outputs": [
        {
          "output_type": "stream",
          "name": "stdout",
          "text": [
            "Data transferred is 10101001110\n",
            "Error Data is 11101001110\n",
            "The position of error is 10\n"
          ]
        }
      ]
    }
  ]
}